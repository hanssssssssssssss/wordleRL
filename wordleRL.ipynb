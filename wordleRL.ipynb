{
 "cells": [
  {
   "cell_type": "markdown",
   "id": "bad11563",
   "metadata": {},
   "source": [
    "# Project"
   ]
  },
  {
   "cell_type": "markdown",
   "id": "9db09697",
   "metadata": {},
   "source": [
    "Links:\n",
    "- https://wandb.ai/andrewkho/wordle-solver/reports/Solving-Wordle-with-Reinforcement-Learning--VmlldzoxNTUzOTc4\n",
    "- https://github.com/andrewkho/wordle-solver\n",
    "- https://github.com/kgreed1/wordle-neural-net\n",
    "- https://www.youtube.com/watch?v=v68zYyaEmEA (3b1b Information theory)"
   ]
  },
  {
   "cell_type": "markdown",
   "id": "66d230a7",
   "metadata": {},
   "source": [
    "-> stupid idea. can be solved analytically"
   ]
  },
  {
   "cell_type": "code",
   "execution_count": 5,
   "id": "56f3d0da",
   "metadata": {},
   "outputs": [],
   "source": [
    "import random\n",
    "\n",
    "\n",
    "MAX_ROUNDS = 6"
   ]
  },
  {
   "cell_type": "markdown",
   "id": "9d94b5b1",
   "metadata": {},
   "source": [
    "State Vector of size 1+(26\\*5\\*3) = 391\n",
    " * [0] for the remaining turns\n",
    " * 5 \\* 26 \\* 3 for each letter in each position yes/maybe/no\n",
    "     + [1, 0, 0] - char is definitely not in this spot\n",
    "     + [0, 1, 0] - char is maybe in this spot\n",
    "     + [0, 0, 1] - char is definitely in this spot"
   ]
  },
  {
   "cell_type": "markdown",
   "id": "80aff0c5",
   "metadata": {},
   "source": [
    "# Game"
   ]
  },
  {
   "cell_type": "code",
   "execution_count": 40,
   "id": "deced0b8",
   "metadata": {},
   "outputs": [],
   "source": [
    "import collections\n",
    "from IPython.display import display\n",
    "from IPython.display import HTML as html_print\n",
    "import numpy as np\n",
    "\n",
    "\n",
    "class Wordle:\n",
    "    def __init__(self, vocab, max_rounds, solution):\n",
    "        self.vocab = vocab\n",
    "        self.max_rounds = max_rounds\n",
    "        self.round = 1\n",
    "        self.solution = solution\n",
    "        self.state = np.zeros(390)\n",
    "        self.won = False\n",
    "        self.over = False\n",
    "\n",
    "    def guess(self, word):\n",
    "        if self.over:\n",
    "            return False\n",
    "        else:\n",
    "            self.set_state(word.lower())\n",
    "            return True\n",
    "\n",
    "    def play_visual(self):\n",
    "        while True:\n",
    "            guess = input()\n",
    "            if guess == \"q\":\n",
    "                return\n",
    "            if len(guess) != 5:\n",
    "                print(\"Word must be 5 characters long\")\n",
    "            # TODO: check non ASCII chars\n",
    "            else:\n",
    "                if self.guess(guess):\n",
    "                    self._visualize_state(self.state, guess)\n",
    "                if self.over:\n",
    "                    print(\"Game over, you \", \"won!\" if self.won else \"lost!\")\n",
    "                    print(\"Solution: \", self.solution)\n",
    "                    return\n",
    "\n",
    "    def set_state(self, word):\n",
    "        reward = 0\n",
    "        self.round += 1\n",
    "        if word == self.solution:\n",
    "            self.won = True\n",
    "            reward += 50\n",
    "            self.over = True\n",
    "        elif self.round > self.max_rounds:\n",
    "            self.over = True\n",
    "\n",
    "        solution_char_count = collections.Counter(self.solution)\n",
    "        for i, char in enumerate(word):\n",
    "            position_offset = i * 26 * 3\n",
    "            char_offset = (ord(char) - 97) * 3\n",
    "            if solution_char_count[char] > 0:\n",
    "                if word[i] == self.solution[i]:\n",
    "                    # Character is correct at this position\n",
    "                    # Set \"definitely\" on this position (and reset \"maybe\")\n",
    "                    self.state[position_offset + char_offset:position_offset + char_offset + 3] = [0, 0, 1]\n",
    "                    #reward += 10\n",
    "                else:\n",
    "                    # character exists in solution and has been seen less often than it exists\n",
    "                    # Set \"maybe\" on this position\n",
    "                    self.state[position_offset + char_offset + 1] = 1\n",
    "                    #reward += 5\n",
    "            else:\n",
    "                if char in self.solution:\n",
    "                    # character exists in solution but has already been seen as often as it exists\n",
    "                    # Set \"definitely not\" on this position, reset \"maybe\" for all remaining positions\n",
    "                    self.state[position_offset + char_offset:position_offset + char_offset + 3] = [1, 0, 0]\n",
    "                    for n in range(i, len(word)):\n",
    "                        other_positions_offset = n * 26 * 3\n",
    "                        self.state[other_positions_offset + char_offset + 1] = 0\n",
    "                else:\n",
    "                    # character does not exist in solution\n",
    "                    # Set \"definitely not\" on all positions\n",
    "                    for n in range(len(word)):\n",
    "                        other_positions_offset = n * 26 * 3\n",
    "                        self.state[other_positions_offset + char_offset:\n",
    "                                   other_positions_offset + char_offset + 3] = [1, 0, 0]\n",
    "\n",
    "            solution_char_count[char] -= 1\n",
    "        return self.state, reward\n",
    "\n",
    "    def _html_colored(self, text, color=\"black\"):\n",
    "        return \"<text style=background-color:{};font-size:large>{}</text>\".format(color, text)\n",
    "\n",
    "    def _visualize_state(self, state, word):\n",
    "        colors = np.array([\"lightgrey\", \"yellow\", \"lightgreen\"])\n",
    "        visual = []\n",
    "        for i, char in enumerate(word):\n",
    "            position_offset = i * 26 * 3\n",
    "            char_offset = (ord(char) - 97) * 3\n",
    "            position_state = state[position_offset + char_offset:position_offset + char_offset + 3]\n",
    "            if np.array_equal(position_state, np.zeros(3)):\n",
    "                color = None\n",
    "            else:\n",
    "                color = colors[position_state == 1][0]\n",
    "            visual.append(self._html_colored(char, color))\n",
    "        display(html_print(\"\".join(visual)))\n"
   ]
  },
  {
   "cell_type": "code",
   "execution_count": 41,
   "id": "8404da59",
   "metadata": {},
   "outputs": [],
   "source": [
    "vocab_subset_len = 100\n",
    "random_seed = 69\n",
    "with open(\"data/possible_words.txt\") as word_list:\n",
    "    vocab = word_list.read().split('\\n')\n",
    "if vocab_subset_len:\n",
    "    random.seed(random_seed)\n",
    "    vocab = random.sample(vocab, k=vocab_subset_len)\n",
    "random.seed(random_seed)\n",
    "solution = random.choice(vocab)\n",
    "game = Wordle(vocab, 6, solution)"
   ]
  },
  {
   "cell_type": "code",
   "execution_count": 42,
   "id": "f6680589",
   "metadata": {},
   "outputs": [
    {
     "name": "stdout",
     "output_type": "stream",
     "text": [
      "apple\n"
     ]
    },
    {
     "data": {
      "text/html": [
       "<text style=background-color:lightgreen;font-size:large>a</text><text style=background-color:lightgrey;font-size:large>p</text><text style=background-color:lightgrey;font-size:large>p</text><text style=background-color:lightgrey;font-size:large>l</text><text style=background-color:lightgrey;font-size:large>e</text>"
      ],
      "text/plain": [
       "<IPython.core.display.HTML object>"
      ]
     },
     "metadata": {},
     "output_type": "display_data"
    },
    {
     "name": "stdout",
     "output_type": "stream",
     "text": [
      "artsy\n"
     ]
    },
    {
     "data": {
      "text/html": [
       "<text style=background-color:lightgreen;font-size:large>a</text><text style=background-color:lightgreen;font-size:large>r</text><text style=background-color:lightgreen;font-size:large>t</text><text style=background-color:lightgreen;font-size:large>s</text><text style=background-color:lightgreen;font-size:large>y</text>"
      ],
      "text/plain": [
       "<IPython.core.display.HTML object>"
      ]
     },
     "metadata": {},
     "output_type": "display_data"
    },
    {
     "name": "stdout",
     "output_type": "stream",
     "text": [
      "Game over, you  won!\n",
      "Solution:  artsy\n"
     ]
    }
   ],
   "source": [
    "game.play_visual()"
   ]
  },
  {
   "cell_type": "markdown",
   "id": "50abae1d",
   "metadata": {},
   "source": [
    "state space: \n",
    "2k actions you could take at each turn. \n",
    "After each of these steps, the game can respond with one of 3^5 combinations of Noes, Maybes, and Yeses. \n",
    "So you could think of this as (2k * 3^5)^6 possible sequences"
   ]
  },
  {
   "cell_type": "markdown",
   "id": "07d3796c",
   "metadata": {},
   "source": [
    "# Model\n",
    "### -> deep q learning"
   ]
  },
  {
   "cell_type": "markdown",
   "id": "47498f65",
   "metadata": {},
   "source": [
    "Reward: \n",
    "- +10 for each green \n",
    "- +5 for yellow\n",
    "- (MAX_ROUNDS-n)+1*50 for win DOES NOT WORK!\n",
    "\n",
    "\n",
    "Now: \n",
    "-50 for loose\n",
    "+50 for win"
   ]
  },
  {
   "cell_type": "markdown",
   "id": "5fb43eb4",
   "metadata": {},
   "source": [
    "# Agent"
   ]
  },
  {
   "cell_type": "code",
   "execution_count": null,
   "id": "9f53b1b1",
   "metadata": {},
   "outputs": [],
   "source": []
  }
 ],
 "metadata": {
  "kernelspec": {
   "display_name": "Python 3 (ipykernel)",
   "language": "python",
   "name": "python3"
  },
  "language_info": {
   "codemirror_mode": {
    "name": "ipython",
    "version": 3
   },
   "file_extension": ".py",
   "mimetype": "text/x-python",
   "name": "python",
   "nbconvert_exporter": "python",
   "pygments_lexer": "ipython3",
   "version": "3.10.6"
  }
 },
 "nbformat": 4,
 "nbformat_minor": 5
}
