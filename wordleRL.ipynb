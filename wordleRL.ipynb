{
 "cells": [
  {
   "cell_type": "markdown",
   "id": "bad11563",
   "metadata": {},
   "source": [
    "# Project"
   ]
  },
  {
   "cell_type": "markdown",
   "id": "9db09697",
   "metadata": {},
   "source": [
    "Links:\n",
    "- https://wandb.ai/andrewkho/wordle-solver/reports/Solving-Wordle-with-Reinforcement-Learning--VmlldzoxNTUzOTc4\n",
    "- https://github.com/kgreed1/wordle-neural-net\n",
    "- https://www.youtube.com/watch?v=v68zYyaEmEA (3b1b Information theory)"
   ]
  },
  {
   "cell_type": "code",
   "execution_count": null,
   "id": "deced0b8",
   "metadata": {},
   "outputs": [],
   "source": []
  }
 ],
 "metadata": {
  "kernelspec": {
   "display_name": "Python 3 (ipykernel)",
   "language": "python",
   "name": "python3"
  },
  "language_info": {
   "codemirror_mode": {
    "name": "ipython",
    "version": 3
   },
   "file_extension": ".py",
   "mimetype": "text/x-python",
   "name": "python",
   "nbconvert_exporter": "python",
   "pygments_lexer": "ipython3",
   "version": "3.10.6"
  }
 },
 "nbformat": 4,
 "nbformat_minor": 5
}
