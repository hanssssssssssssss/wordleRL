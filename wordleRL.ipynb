{
 "cells": [
  {
   "cell_type": "markdown",
   "id": "bad11563",
   "metadata": {},
   "source": [
    "# Project"
   ]
  },
  {
   "cell_type": "markdown",
   "id": "9db09697",
   "metadata": {},
   "source": [
    "Links:\n",
    "- https://wandb.ai/andrewkho/wordle-solver/reports/Solving-Wordle-with-Reinforcement-Learning--VmlldzoxNTUzOTc4\n",
    "- https://github.com/andrewkho/wordle-solver\n",
    "- https://github.com/kgreed1/wordle-neural-net\n",
    "- https://www.youtube.com/watch?v=v68zYyaEmEA (3b1b Information theory)"
   ]
  },
  {
   "cell_type": "markdown",
   "id": "66d230a7",
   "metadata": {},
   "source": [
    "-> stupid idea. can be solved analytically"
   ]
  },
  {
   "cell_type": "code",
   "execution_count": 20,
   "id": "56f3d0da",
   "metadata": {},
   "outputs": [],
   "source": [
    "import random\n",
    "\n",
    "\n",
    "MAX_ROUNDS = 6"
   ]
  },
  {
   "cell_type": "markdown",
   "id": "9d94b5b1",
   "metadata": {},
   "source": [
    "State Vector of size 1+(26\\*5\\*3) = 391\n",
    " * [0] for the remaining turns\n",
    " * 5 \\* 26 \\* 3 for each letter in each position yes/maybe/no\n",
    "     + [1, 0, 0] - char is definitely not in this spot\n",
    "     + [0, 1, 0] - char is maybe in this spot\n",
    "     + [0, 0, 1] - char is definitely in this spot"
   ]
  },
  {
   "cell_type": "markdown",
   "id": "80aff0c5",
   "metadata": {},
   "source": [
    "# Game"
   ]
  },
  {
   "cell_type": "code",
   "execution_count": 75,
   "id": "deced0b8",
   "metadata": {},
   "outputs": [],
   "source": [
    "import wordle"
   ]
  },
  {
   "cell_type": "code",
   "execution_count": 78,
   "id": "8404da59",
   "metadata": {},
   "outputs": [],
   "source": [
    "vocab_subset_len = 100\n",
    "random_seed = None\n",
    "with open(\"data/possible_words.txt\") as word_list:\n",
    "    vocab = word_list.read().split('\\n')\n",
    "if vocab_subset_len:\n",
    "    random.seed(random_seed)\n",
    "    vocab = random.sample(vocab, k=vocab_subset_len)\n",
    "random.seed(random_seed)\n",
    "solution = random.choice(vocab)\n",
    "game = Wordle(vocab, 6, solution)"
   ]
  },
  {
   "cell_type": "code",
   "execution_count": 79,
   "id": "f6680589",
   "metadata": {},
   "outputs": [
    {
     "name": "stdout",
     "output_type": "stream",
     "text": [
      "sinus\n"
     ]
    },
    {
     "data": {
      "text/html": [
       "<text style=background-color:lightgreen;font-size:large>s</text><text style=background-color:lightgreen;font-size:large>i</text><text style=background-color:lightgrey;font-size:large>n</text><text style=background-color:lightgrey;font-size:large>u</text><text style=background-color:lightgrey;font-size:large>s</text>"
      ],
      "text/plain": [
       "<IPython.core.display.HTML object>"
      ]
     },
     "metadata": {},
     "output_type": "display_data"
    },
    {
     "name": "stdout",
     "output_type": "stream",
     "text": [
      "silly\n"
     ]
    },
    {
     "data": {
      "text/html": [
       "<text style=background-color:lightgreen;font-size:large>s</text><text style=background-color:lightgreen;font-size:large>i</text><text style=background-color:lightgrey;font-size:large>l</text><text style=background-color:lightgrey;font-size:large>l</text><text style=background-color:lightgrey;font-size:large>y</text>"
      ],
      "text/plain": [
       "<IPython.core.display.HTML object>"
      ]
     },
     "metadata": {},
     "output_type": "display_data"
    },
    {
     "name": "stdout",
     "output_type": "stream",
     "text": [
      "simon\n"
     ]
    },
    {
     "data": {
      "text/html": [
       "<text style=background-color:lightgreen;font-size:large>s</text><text style=background-color:lightgreen;font-size:large>i</text><text style=background-color:yellow;font-size:large>m</text><text style=background-color:lightgrey;font-size:large>o</text><text style=background-color:lightgrey;font-size:large>n</text>"
      ],
      "text/plain": [
       "<IPython.core.display.HTML object>"
      ]
     },
     "metadata": {},
     "output_type": "display_data"
    },
    {
     "name": "stdout",
     "output_type": "stream",
     "text": [
      "sirme\n"
     ]
    },
    {
     "data": {
      "text/html": [
       "<text style=background-color:lightgreen;font-size:large>s</text><text style=background-color:lightgreen;font-size:large>i</text><text style=background-color:lightgrey;font-size:large>r</text><text style=background-color:lightgreen;font-size:large>m</text><text style=background-color:lightgrey;font-size:large>e</text>"
      ],
      "text/plain": [
       "<IPython.core.display.HTML object>"
      ]
     },
     "metadata": {},
     "output_type": "display_data"
    },
    {
     "name": "stdout",
     "output_type": "stream",
     "text": [
      "siams\n"
     ]
    },
    {
     "data": {
      "text/html": [
       "<text style=background-color:lightgreen;font-size:large>s</text><text style=background-color:lightgreen;font-size:large>i</text><text style=background-color:yellow;font-size:large>a</text><text style=background-color:lightgreen;font-size:large>m</text><text style=background-color:lightgrey;font-size:large>s</text>"
      ],
      "text/plain": [
       "<IPython.core.display.HTML object>"
      ]
     },
     "metadata": {},
     "output_type": "display_data"
    },
    {
     "name": "stdout",
     "output_type": "stream",
     "text": [
      "sigma\n"
     ]
    },
    {
     "data": {
      "text/html": [
       "<text style=background-color:lightgreen;font-size:large>s</text><text style=background-color:lightgreen;font-size:large>i</text><text style=background-color:lightgreen;font-size:large>g</text><text style=background-color:lightgreen;font-size:large>m</text><text style=background-color:lightgreen;font-size:large>a</text>"
      ],
      "text/plain": [
       "<IPython.core.display.HTML object>"
      ]
     },
     "metadata": {},
     "output_type": "display_data"
    },
    {
     "name": "stdout",
     "output_type": "stream",
     "text": [
      "Game over, you  won!\n",
      "Solution:  sigma\n"
     ]
    }
   ],
   "source": [
    "game.play_visual()"
   ]
  },
  {
   "cell_type": "markdown",
   "id": "50abae1d",
   "metadata": {},
   "source": [
    "state space: \n",
    "2k actions you could take at each turn. \n",
    "After each of these steps, the game can respond with one of 3^5 combinations of Noes, Maybes, and Yeses. \n",
    "So you could think of this as (2k * 3^5)^6 possible sequences"
   ]
  },
  {
   "cell_type": "markdown",
   "id": "07d3796c",
   "metadata": {},
   "source": [
    "# Model\n",
    "### -> deep q learning"
   ]
  },
  {
   "cell_type": "markdown",
   "id": "47498f65",
   "metadata": {},
   "source": [
    "Reward: \n",
    "- +10 for each green \n",
    "- +5 for yellow\n",
    "- (MAX_ROUNDS-n)+1*50 for win DOES NOT WORK!\n",
    "\n",
    "\n",
    "Now: \n",
    "-50 for loose\n",
    "+50 for win"
   ]
  },
  {
   "cell_type": "markdown",
   "id": "5fb43eb4",
   "metadata": {},
   "source": [
    "# Agent"
   ]
  },
  {
   "cell_type": "code",
   "execution_count": null,
   "id": "9f53b1b1",
   "metadata": {},
   "outputs": [],
   "source": []
  }
 ],
 "metadata": {
  "kernelspec": {
   "display_name": "Python 3 (ipykernel)",
   "language": "python",
   "name": "python3"
  },
  "language_info": {
   "codemirror_mode": {
    "name": "ipython",
    "version": 3
   },
   "file_extension": ".py",
   "mimetype": "text/x-python",
   "name": "python",
   "nbconvert_exporter": "python",
   "pygments_lexer": "ipython3",
   "version": "3.10.6"
  }
 },
 "nbformat": 4,
 "nbformat_minor": 5
}
